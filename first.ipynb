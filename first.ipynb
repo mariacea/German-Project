{
 "cells": [
  {
   "cell_type": "code",
   "execution_count": 1,
   "metadata": {},
   "outputs": [
    {
     "name": "stderr",
     "output_type": "stream",
     "text": [
      "\u001b[32m\u001b[1m   Resolving\u001b[22m\u001b[39m package versions...\n",
      "\u001b[32m\u001b[1m  No Changes\u001b[22m\u001b[39m to `C:\\Users\\tcsh\\.julia\\environments\\v1.10\\Project.toml`\n",
      "\u001b[32m\u001b[1m  No Changes\u001b[22m\u001b[39m to `C:\\Users\\tcsh\\.julia\\environments\\v1.10\\Manifest.toml`\n"
     ]
    }
   ],
   "source": [
    "import Pkg\n",
    "Pkg.add(\"ITensors\")\n",
    "using ITensors"
   ]
  },
  {
   "cell_type": "code",
   "execution_count": 2,
   "metadata": {},
   "outputs": [
    {
     "name": "stdout",
     "output_type": "stream",
     "text": [
      "After sweep 1 energy=-4.488962248184456  maxlinkdim=2 maxerr=1.19E-16 time=18.488\n",
      "After sweep 2 energy=-4.4999998548657665  maxlinkdim=2 maxerr=1.05E-15 time=0.004\n",
      "After sweep 3 energy=-4.499999999998068  maxlinkdim=2 maxerr=2.22E-16 time=0.003\n",
      "After sweep 4 energy=-4.499999999999997  maxlinkdim=2 maxerr=5.55E-17 time=0.004\n",
      "After sweep 5 energy=-4.499999999999996  maxlinkdim=2 maxerr=1.11E-16 time=0.003\n",
      "After sweep 6 energy=-4.4999999999999964  maxlinkdim=2 maxerr=5.55E-17 time=0.004\n",
      "After sweep 7 energy=-4.4999999999999964  maxlinkdim=2 maxerr=2.22E-16 time=0.026\n",
      "After sweep 8 energy=-4.499999999999997  maxlinkdim=2 maxerr=1.67E-16 time=0.003\n",
      "After sweep 9 energy=-4.499999999999996  maxlinkdim=2 maxerr=6.11E-16 time=0.001\n",
      "After sweep 10 energy=-4.4999999999999964  maxlinkdim=2 maxerr=2.78E-16 time=0.002\n"
     ]
    },
    {
     "data": {
      "text/plain": [
       "(-4.4999999999999964, MPS\n",
       "[1] ((dim=2|id=414|\"Link,l=1\"), (dim=2|id=559|\"S=1/2,Site,n=1\"))\n",
       "[2] ((dim=2|id=890|\"Link,l=2\"), (dim=2|id=733|\"S=1/2,Site,n=2\"), (dim=2|id=414|\"Link,l=1\"))\n",
       "[3] ((dim=2|id=865|\"S=1/2,Site,n=3\"), (dim=2|id=890|\"Link,l=2\"))\n",
       ")"
      ]
     },
     "metadata": {},
     "output_type": "display_data"
    }
   ],
   "source": [
    "N = 3\n",
    "sites = siteinds(\"S=1/2\",N);\n",
    "\n",
    "os = OpSum()\n",
    "for j=1:N-1\n",
    "  os += -1.0,\"X\",j,\"X\",j+1\n",
    "  os += -1.0,\"Y\",j,\"Y\",j+1\n",
    "  os += +(0.5+2*10),\"Z\",j,\"Z\",j+1\n",
    "  os += -2*10,\"Z\",j\n",
    "end\n",
    "os += -1.0,\"X\",1,\"X\",N\n",
    "os += -1.0,\"Y\",1,\"Y\",N\n",
    "os += +(0.5+2*10),\"Z\",1,\"Z\",N\n",
    "os += -2*10,\"Z\",N\n",
    "\n",
    "os += +4*10,\"I\",1\n",
    "\n",
    "H = MPO(os,sites);\n",
    "\n",
    "nsweeps = 10 # number of sweeps is 5\n",
    "maxdim = [10,20,100,100,200] # gradually increase states kept\n",
    "cutoff = [1E-10] # desired truncation error\n",
    "\n",
    "psi0 = randomMPS(sites,2)\n",
    "\n",
    "energy, psi = dmrg(H,psi0; nsweeps, maxdim, cutoff)"
   ]
  },
  {
   "cell_type": "code",
   "execution_count": 29,
   "metadata": {},
   "outputs": [
    {
     "name": "stdout",
     "output_type": "stream",
     "text": [
      "state = ComplexF64[0.0 + 0.0im, 0.5773502691896253 + 0.0im, 0.5773502691896261 + 0.0im, 0.0 + 0.0im, 0.5773502691896261 + 0.0im, 0.0 + 0.0im, 0.0 + 0.0im, 0.0 + 0.0im]\n"
     ]
    },
    {
     "data": {
      "text/plain": [
       "8-element Vector{ComplexF64}:\n",
       "                0.0 + 0.0im\n",
       " 0.5773502691896253 + 0.0im\n",
       " 0.5773502691896261 + 0.0im\n",
       "                0.0 + 0.0im\n",
       " 0.5773502691896261 + 0.0im\n",
       "                0.0 + 0.0im\n",
       "                0.0 + 0.0im\n",
       "                0.0 + 0.0im"
      ]
     },
     "metadata": {},
     "output_type": "display_data"
    }
   ],
   "source": [
    "# This is well done!!!\n",
    "contraction = psi[1] * psi[2] * psi[3];\n",
    "state = array(contraction, inds(contraction));\n",
    "state = reshape(state, 8);\n",
    "threshold = 1e-14;\n",
    "state .= ifelse.(abs.(state) .< threshold, 0.0, state);\n",
    "@show state"
   ]
  },
  {
   "cell_type": "code",
   "execution_count": 64,
   "metadata": {},
   "outputs": [
    {
     "name": "stdout",
     "output_type": "stream",
     "text": [
      "probability_state = ComplexF64[0.0 + 0.0im, 0.33333333333333276 + 0.0im, 0.3333333333333337 + 0.0im, 0.0 + 0.0im, 0.3333333333333337 + 0.0im, 0.0 + 0.0im, 0.0 + 0.0im, 0.0 + 0.0im]\n"
     ]
    },
    {
     "data": {
      "text/plain": [
       "8-element Vector{ComplexF64}:\n",
       "                 0.0 + 0.0im\n",
       " 0.33333333333333276 + 0.0im\n",
       "  0.3333333333333337 + 0.0im\n",
       "                 0.0 + 0.0im\n",
       "  0.3333333333333337 + 0.0im\n",
       "                 0.0 + 0.0im\n",
       "                 0.0 + 0.0im\n",
       "                 0.0 + 0.0im"
      ]
     },
     "metadata": {},
     "output_type": "display_data"
    }
   ],
   "source": [
    "# Now, I have to construct the \"probability MPS\"\n",
    "\n",
    "# Here I define the copy tensor\n",
    "dim = 2\n",
    "copy_array = zeros(Float64, (dim, dim, dim))\n",
    "\n",
    "for val in 1:dim\n",
    "    copy_array[val, val, val] = 1.0\n",
    "end\n",
    "\n",
    "# Here I define the \"probablity MPS\"\n",
    "psi_prime = prime(psi);\n",
    "\n",
    "siteinds_psi = siteinds(psi); siteinds_psi_prime = siteinds(psi_prime);\n",
    "\n",
    "i1 = Index(2, \"n=1,p\");\n",
    "i2 = Index(2, \"n=2,p\");\n",
    "i3 = Index(2, \"n=3,p\");\n",
    "\n",
    "T1 = ITensor(copy_array, siteinds_psi[1], siteinds_psi_prime[1], i1);\n",
    "T2 = ITensor(copy_array, siteinds_psi[2], siteinds_psi_prime[2], i2);\n",
    "T3 = ITensor(copy_array, siteinds_psi[3], siteinds_psi_prime[3], i3);\n",
    "\n",
    "probability_psi = psi[1] * psi[2] * psi[3] * psi_prime[1] * psi_prime[2] * psi_prime[3] * T1 * T2 * T3;\n",
    "\n",
    "probability_state = array(probability_psi, inds(probability_psi));\n",
    "probability_state = reshape(probability_state, 8);\n",
    "threshold = 1e-14;\n",
    "probability_state .= ifelse.(abs.(probability_state) .< threshold, 0.0, probability_state);\n",
    "@show probability_state"
   ]
  },
  {
   "cell_type": "code",
   "execution_count": 65,
   "metadata": {},
   "outputs": [
    {
     "data": {
      "text/plain": [
       "MPO\n",
       "#undef\n",
       "#undef\n",
       "#undef\n"
      ]
     },
     "metadata": {},
     "output_type": "display_data"
    }
   ],
   "source": [
    "psi_MPO = MPO(N)\n",
    "\n",
    "# We contract each tensor of the MPS with the copy tensor\n",
    "@\n",
    "\n"
   ]
  }
 ],
 "metadata": {
  "kernelspec": {
   "display_name": "Julia 1.10.2",
   "language": "julia",
   "name": "julia-1.10"
  },
  "language_info": {
   "file_extension": ".jl",
   "mimetype": "application/julia",
   "name": "julia",
   "version": "1.10.2"
  }
 },
 "nbformat": 4,
 "nbformat_minor": 2
}
